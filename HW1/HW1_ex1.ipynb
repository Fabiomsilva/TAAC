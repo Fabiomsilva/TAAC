{
  "nbformat": 4,
  "nbformat_minor": 0,
  "metadata": {
    "interpreter": {
      "hash": "9411c874d23a30350508850ddf7aceca5364cfb7d2baecd469b5024e8abaaa7f"
    },
    "kernelspec": {
      "display_name": "Python 3.9.2 64-bit ('vcom': virtualenv)",
      "name": "python3"
    },
    "language_info": {
      "codemirror_mode": {
        "name": "ipython",
        "version": 3
      },
      "file_extension": ".py",
      "mimetype": "text/x-python",
      "name": "python",
      "nbconvert_exporter": "python",
      "pygments_lexer": "ipython3",
      "version": "3.9.2"
    },
    "orig_nbformat": 4,
    "colab": {
      "name": "HW1_ex1.ipynb",
      "provenance": [],
      "collapsed_sections": []
    },
    "accelerator": "GPU"
  },
  "cells": [
    {
      "cell_type": "code",
      "metadata": {
        "id": "TSEuOyHPYpwj"
      },
      "source": [
        "#!pip install scikit-learn"
      ],
      "execution_count": null,
      "outputs": []
    },
    {
      "cell_type": "markdown",
      "metadata": {
        "id": "bpVJGkXuLTJS"
      },
      "source": [
        "**1.a) What kind of boundaries is a logistic regression model able to express? Explain why.**\n",
        "\n",
        "The logistic regression is asymptotically bounded between 0 and 1. This function allows us to classify binary classification problems based on probability. The cutoff can be adjusted based on the slope and intercept parameters in order to adjust the function to the data. Thus if the classes were linearly separable logistic regression will perform very well.\n"
      ]
    },
    {
      "cell_type": "code",
      "metadata": {
        "id": "zgwkOrJwYpwk"
      },
      "source": [
        "import numpy as np\n",
        "from sklearn.linear_model import LogisticRegression, SGDClassifier\n",
        "from sklearn.metrics import classification_report, confusion_matrix\n",
        "from sklearn.model_selection import train_test_split\n",
        "from sklearn import preprocessing"
      ],
      "execution_count": null,
      "outputs": []
    },
    {
      "cell_type": "markdown",
      "metadata": {
        "id": "ExOyGS4T8lNF"
      },
      "source": [
        "\n",
        "**b) Load the height/weight data from the file heightWeightData.txt. The first column is the class label (1=male, 2=female), the second column is height, the third weight. Note that binary class labels are commonly represented as 0 and 1.**\n"
      ]
    },
    {
      "cell_type": "code",
      "metadata": {
        "id": "ptg1s_m_u21x"
      },
      "source": [
        "an_array = np.genfromtxt(\"heightWeightData.txt\", encoding=None, delimiter=\",\")\n",
        "y = an_array[:,:1]\n",
        "y = np.where(y==2, 0, y)  # adjust classification label to {0, 1}\n",
        "y = y.ravel()             # Return a contiguous flattened array.\n",
        "y = y.astype(np.int8)     # covert float values to int8. int8 to maximize calculations \n",
        "\n",
        "x = an_array[:,1:3]"
      ],
      "execution_count": null,
      "outputs": []
    },
    {
      "cell_type": "markdown",
      "metadata": {
        "id": "X4MwOL52CQ9W"
      },
      "source": [
        "**c) Train a simple logistic regression model in the first 80% of the data and evaluate the quality in the remaining 20%. State the selected learning rate and the prediction error in the dataset.**"
      ]
    },
    {
      "cell_type": "code",
      "metadata": {
        "id": "qa-ctK0DYpwm",
        "colab": {
          "base_uri": "https://localhost:8080/"
        },
        "outputId": "6f2bf78a-6173-4f3e-9f68-82bbd5cf160e"
      },
      "source": [
        "X_train, X_test, y_train, y_test = train_test_split(x, y, shuffle=False, random_state=42, test_size=0.20)\n",
        "\n",
        "# model = LogisticRegression(solver='liblinear', random_state=0, penalty='l1')\n",
        "# model.fit(X_train, y_train)\n",
        "# Done to compare with SGDClassifier\n",
        "\n",
        "model = SGDClassifier(loss=\"log\", penalty=\"l2\", max_iter=1500, eta0=30, random_state=42, learning_rate='adaptive')\n",
        "model.fit(X_train, y_train)\n",
        "\n",
        "#print(model.intercept_) \n",
        "#print(model.coef_)     \n",
        "p_pred = model.predict_proba(X_test)   \n",
        "y_pred = model.predict(X_test)\n",
        "\n",
        "print(confusion_matrix(y_test, y_pred), \"\\n\")\n",
        "report = classification_report(y_test, y_pred)\n",
        "print(report)"
      ],
      "execution_count": null,
      "outputs": [
        {
          "output_type": "stream",
          "name": "stdout",
          "text": [
            "[[28  3]\n",
            " [ 3  8]] \n",
            "\n",
            "              precision    recall  f1-score   support\n",
            "\n",
            "           0       0.90      0.90      0.90        31\n",
            "           1       0.73      0.73      0.73        11\n",
            "\n",
            "    accuracy                           0.86        42\n",
            "   macro avg       0.82      0.82      0.82        42\n",
            "weighted avg       0.86      0.86      0.86        42\n",
            "\n"
          ]
        }
      ]
    },
    {
      "cell_type": "markdown",
      "metadata": {
        "id": "PGYMczl15Iee"
      },
      "source": [
        "-> The learning rate is adaptive, that is, according to the description of the SGD classifier function, the learning rate decreases throughout the training until it reaches the value 0.0. <br>\n",
        "-> The prediction error in this dataset is 14% since the accuracy of the model is 86% <br>\n",
        "-> first eta value is relatively high due to the also high value of the decision variables <br>"
      ]
    },
    {
      "cell_type": "markdown",
      "metadata": {
        "id": "hZF6-c8qLnwM"
      },
      "source": [
        "**d) Repeat c) but now but first pre-processing the data, centering the data in zero and making the variance unitary for each attribute. Compare the convergence with what occured in c)**"
      ]
    },
    {
      "cell_type": "code",
      "metadata": {
        "id": "JHPNatzJAGge",
        "colab": {
          "base_uri": "https://localhost:8080/"
        },
        "outputId": "4f8ff069-c5c2-4111-cc73-38b7211aecdc"
      },
      "source": [
        "scaler_x = preprocessing.StandardScaler().fit(x)\n",
        "x_scaled = scaler_x.transform(x)\n",
        "\n",
        "X_train_scaled, X_test_scaled, y_train, y_test = train_test_split(x_scaled, y, shuffle=False, random_state=42, test_size=0.20)\n",
        "\n",
        "# model2 = LogisticRegression(solver='liblinear', random_state=0, penalty='l2')\n",
        "# model2.fit(X_train_scaled, y_train_scaled)\n",
        "\n",
        "model2 = SGDClassifier(loss=\"log\", penalty=\"l2\", max_iter=350, eta0=0.3, random_state=42, learning_rate='adaptive')\n",
        "model2.fit(X_train_scaled, y_train)\n",
        "\n",
        "p_pred_scaled = model2.predict_proba(X_test_scaled)   \n",
        "y_pred = model2.predict(X_test_scaled)\n",
        "\n",
        "print(confusion_matrix(y_test, y_pred),\"\\n\")\n",
        "report = classification_report(y_test, y_pred)\n",
        "print(report)"
      ],
      "execution_count": null,
      "outputs": [
        {
          "output_type": "stream",
          "name": "stdout",
          "text": [
            "[[27  4]\n",
            " [ 0 11]] \n",
            "\n",
            "              precision    recall  f1-score   support\n",
            "\n",
            "           0       1.00      0.87      0.93        31\n",
            "           1       0.73      1.00      0.85        11\n",
            "\n",
            "    accuracy                           0.90        42\n",
            "   macro avg       0.87      0.94      0.89        42\n",
            "weighted avg       0.93      0.90      0.91        42\n",
            "\n"
          ]
        }
      ]
    },
    {
      "cell_type": "code",
      "metadata": {
        "colab": {
          "base_uri": "https://localhost:8080/",
          "height": 286
        },
        "id": "hrxNFg9cv34U",
        "outputId": "d1091358-93c8-447e-c364-efb557cd7498"
      },
      "source": [
        "####  Test  ####\n",
        "import matplotlib.pyplot as plt\n",
        "import sklearn.linear_model\n",
        "\n",
        "# Retrieve the model parameters.\n",
        "b = model2.intercept_[0]\n",
        "w1, w2 = model2.coef_.T\n",
        "# Calculate the intercept and slope of the decision boundary\n",
        "c = -b/w2\n",
        "m = -w1/w2\n",
        "\n",
        "# Plot the data and the classification with the decision boundary\n",
        "xmin, xmax = X_test_scaled.min(), X_test_scaled.max()\n",
        "ymin, ymax = y_test.min(), y_test.max()\n",
        "xd = np.array([xmin, xmax])\n",
        "yd = m*xd + c\n",
        "plt.plot(xd, yd, 'k', lw=1, ls='--')\n",
        "plt.fill_between(xd, yd, ymin, color='tab:blue', alpha=0.2)\n",
        "plt.fill_between(xd, yd, ymax, color='tab:orange', alpha=0.2)\n",
        "\n",
        "plt.scatter(*(X_test_scaled[y_test==0]).T, s=10, alpha=0.9)\n",
        "plt.scatter(*(X_test_scaled[y_test==1]).T, s=10, alpha=0.9)\n",
        "plt.xlim(xmin, xmax)\n",
        "plt.ylim(ymin, ymax)\n",
        "plt.ylabel(r'$x_2$')\n",
        "plt.xlabel(r'$x_1$')\n",
        "\n",
        "plt.show()\n",
        " "
      ],
      "execution_count": null,
      "outputs": [
        {
          "output_type": "display_data",
          "data": {
            "image/png": "[encoded data removed]",
            "text/plain": [
              "<Figure size 432x288 with 1 Axes>"
            ]
          },
          "metadata": {
            "needs_background": "light"
          }
        }
      ]
    },
    {
      "cell_type": "code",
      "metadata": {
        "colab": {
          "base_uri": "https://localhost:8080/",
          "height": 286
        },
        "id": "QTwQ0N20-5va",
        "outputId": "2712d103-1bf1-42c5-aa59-52a8035cf25e"
      },
      "source": [
        "####  Train  ####\n",
        "\n",
        "# Plot the data and the classification with the decision boundary\n",
        "xmin, xmax = X_train_scaled.min(), X_train_scaled.max()\n",
        "ymin, ymax = y_train.min(), y_train.max()\n",
        "xd = np.array([xmin, xmax])\n",
        "yd = m*xd + c\n",
        "plt.plot(xd, yd, 'k', lw=1, ls='--')\n",
        "plt.fill_between(xd, yd, ymin, color='tab:blue', alpha=0.2)\n",
        "plt.fill_between(xd, yd, ymax, color='tab:orange', alpha=0.2)\n",
        "\n",
        "plt.scatter(*(X_train_scaled[y_train==0]).T, s=10, alpha=0.9)\n",
        "plt.scatter(*(X_train_scaled[y_train==1]).T, s=10, alpha=0.9)\n",
        "plt.xlim(xmin, xmax)\n",
        "plt.ylim(ymin, ymax)\n",
        "plt.ylabel(r'$x_2$')\n",
        "plt.xlabel(r'$x_1$')\n",
        "\n",
        "plt.show()"
      ],
      "execution_count": null,
      "outputs": [
        {
          "output_type": "display_data",
          "data": {
            "image/png": "[encoded data removed]",
            "text/plain": [
              "<Figure size 432x288 with 1 Axes>"
            ]
          },
          "metadata": {
            "needs_background": "light"
          }
        }
      ]
    },
    {
      "cell_type": "markdown",
      "metadata": {
        "id": "I7NxA89Rl96d"
      },
      "source": [
        "Conclusions for the exercise: <br>\n",
        " -> We have done experiments with LogisticRegression and SGDClassifier functions from sklearn. The final choice was SGDClassifier because can classify based in logistic regression if we chose the hiper-parameter loss=\"log\". This choice was also to allow experiments regarding different types of learning_rate. It has been done researches to gather that value according to each iteraion but the conclusion was that it was not possible to monitor the value with sklearn. <br>\n",
        "  -> From 1C to 1D there was an improvement in the results due to the standardization of variables as expected given that in the package description, this requirement was strongly recommended.<br>\n",
        " -> we can confirm that the model with Standardization has a faster convergence due to the number of iterations which is much smaller. <br> \n",
        " -> Two graphs were made with the results of the division made by the algorithm with the training and test data in order to understand if it would be possible with this data set to make a division with a linear line between the observations and the label. Through these graphics we can see that the data is not divisible, justifying an accuracy of less than 100% <br>"
      ]
    }
  ]
}